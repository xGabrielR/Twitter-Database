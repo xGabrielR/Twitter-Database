{
 "cells": [
  {
   "cell_type": "markdown",
   "id": "8c2839f4",
   "metadata": {},
   "source": [
    "### 0.1. Imports"
   ]
  },
  {
   "cell_type": "code",
   "execution_count": 6,
   "id": "87483427",
   "metadata": {},
   "outputs": [],
   "source": [
    "import json\n",
    "import time\n",
    "import requests\n",
    "import numpy as np\n",
    "import pandas as pd\n",
    "\n",
    "from datetime import datetime\n",
    "from tweepy import OAuthHandler, Stream, API, Client #StreamListener\n",
    "from utils import CONSUMER_KEY,CONSUMER_SECRET,ACCESS_TOKEN,ACCESS_TOKEN_SECRET"
   ]
  },
  {
   "cell_type": "markdown",
   "id": "e3432f01",
   "metadata": {},
   "source": [
    "# 1.0. Twitter Data Collect"
   ]
  },
  {
   "cell_type": "markdown",
   "id": "dccc0fd0",
   "metadata": {},
   "source": [
    "## 1.1. Twitter API Request"
   ]
  },
  {
   "cell_type": "code",
   "execution_count": null,
   "id": "fbefe0ff",
   "metadata": {},
   "outputs": [],
   "source": [
    "auth = OAuthHandler(CONSUMER_KEY, CONSUMER_SECRET)\n",
    "auth.set_access_token(ACCESS_TOKEN, ACCESS_TOKEN_SECRET)\n",
    "\n",
    "api = API(auth)"
   ]
  },
  {
   "cell_type": "code",
   "execution_count": null,
   "id": "8bfa1f0b",
   "metadata": {},
   "outputs": [],
   "source": [
    "query = 'Brasil'\n",
    "search_times = 100\n",
    "client = Client(consumer_key=CONSUMER_KEY, consumer_secret=CONSUMER_SECRET,\n",
    "                       access_token=ACCESS_TOKEN, access_token_secret=ACCESS_TOKEN_SECRET,\n",
    "                       bearer_token=BEARER_TOKEN, )\n",
    "\n",
    "tweets = client.search_recent_tweets(query=query, max_results=search_times)"
   ]
  },
  {
   "cell_type": "code",
   "execution_count": null,
   "id": "568d7604",
   "metadata": {},
   "outputs": [
    {
     "name": "stdout",
     "output_type": "stream",
     "text": [
      "\n",
      "For 100 requests, total time is: 127 Seconds\n",
      "_______________\n"
     ]
    }
   ],
   "source": [
    "tick = time.time()\n",
    "DATE = datetime.now().strftime('%Y-%m-%d')\n",
    "for k in tweets.data:\n",
    "    tweet_data = api.get_status(k.id, tweet_mode='extended')._json\n",
    "    time.sleep(1)\n",
    "    print(json.dumps(tweet_data) + '\\n', file=open(f'output_json_tweets_{DATE}.txt', 'a'))\n",
    "\n",
    "tock = time.time()\n",
    "print(f\"\\nFor {search_times} requests, total time is: {int(tock-tick)} Seconds\\n_______________\")"
   ]
  },
  {
   "cell_type": "markdown",
   "id": "62ada743",
   "metadata": {},
   "source": [
    "## 1.2. Data Pre Processing"
   ]
  },
  {
   "cell_type": "markdown",
   "id": "18a86d12",
   "metadata": {
    "heading_collapsed": true
   },
   "source": [
    "### 1.2.1. One Example Pre Processing"
   ]
  },
  {
   "cell_type": "code",
   "execution_count": null,
   "id": "2ad69ca4",
   "metadata": {
    "hidden": true
   },
   "outputs": [],
   "source": [
    "with open('output_json_tweets.txt', 'r') as file_jsons:\n",
    "    data = file_jsons.readlines()\n",
    "\n",
    "data2 = [json.loads(data[k]) for k in range(0, len(data), 2)]"
   ]
  },
  {
   "cell_type": "code",
   "execution_count": null,
   "id": "58954a10",
   "metadata": {
    "hidden": true
   },
   "outputs": [],
   "source": [
    "# Primary Data in Json\n",
    "post_author_info = data2[0]['retweeted_status']\n",
    "\n",
    "post_id = post_author_info['id_str']\n",
    "post_geo = post_author_info['geo']\n",
    "post_text = post_author_info['full_text']\n",
    "post_place = post_author_info['place']\n",
    "post_source = post_author_info['source']\n",
    "post_coordinates = post_author_info['coordinates']\n",
    "post_contributors = post_author_info['contributors']\n",
    "post_post_author_info_count = post_author_info['retweet_count']\n",
    "post_favorite_count = post_author_info['favorite_count']\n",
    "post_is_quote_status = post_author_info['is_quote_status']\n",
    "\n",
    "post_user_id = post_author_info['user']['id_str']\n",
    "post_user_name = post_author_info['user']['name']\n",
    "post_user_lang = post_author_info['user']['lang']\n",
    "post_user_verified = post_author_info['user']['verified']\n",
    "post_user_location = post_author_info['user']['location']\n",
    "post_user_time_zone = post_author_info['user']['time_zone']\n",
    "post_user_created_at = post_author_info['user']['created_at']\n",
    "post_user_description = post_author_info['user']['description']\n",
    "post_user_screen_name = post_author_info['user']['screen_name']\n",
    "\n",
    "post_user_geo_enabled = post_author_info['user']['geo_enabled']\n",
    "post_user_friends_count = post_author_info['user']['friends_count']\n",
    "tweet_user_profile_color = post_author_info['user']['profile_link_color']\n",
    "post_user_followers_count = post_author_info['user']['followers_count']\n",
    "post_user_favourites_count = post_author_info['user']['favourites_count']\n",
    "tweet_user_profile_background_color = post_author_info['user']['profile_background_color']\n",
    "\n",
    "\n",
    "post_hashtags = data2[0]['entities']['hashtags']"
   ]
  },
  {
   "cell_type": "code",
   "execution_count": null,
   "id": "40070d71",
   "metadata": {
    "hidden": true
   },
   "outputs": [],
   "source": [
    "############################################ Retweet Status\n",
    "\n",
    "user = data2[0]['user'].copy()\n",
    "\n",
    "tweet_user_id = user['id_str']\n",
    "tweet_user_name = user['name']\n",
    "tweet_user_lang = user['lang']\n",
    "tweet_user_desc = user['description']\n",
    "tweet_user_c_fllw = user['followers_count']\n",
    "tweet_user_c_frds = user['friends_count']\n",
    "tweet_user_c_fav  = user['favourites_count']\n",
    "tweet_user_timezone = user['time_zone']\n",
    "tweet_user_location = user['location']\n",
    "tweet_user_geo_enab = user['geo_enabled']\n",
    "tweet_user_date_acc = user['created_at']\n",
    "tweet_user_is_verify = user['verified']\n",
    "tweet_user_screen_name = user['screen_name']\n",
    "tweet_user_profile_color = user['profile_link_color']\n",
    "tweet_user_profile_background_color = user['profile_background_color']\n",
    "\n",
    "\n",
    "r_post_id = data2[0]['id_str']\n",
    "r_post_lang = data2[0]['lang']\n",
    "r_post_is_fav = data2[0]['favorited']\n",
    "r_post_source = data2[0]['source']\n",
    "r_post_fav_count = data2[0]['favorite_count']\n",
    "r_post_is_retweet = data2[0]['retweeted']\n",
    "r_post_created_at = data2[0]['created_at']\n",
    "r_post_retweet_count = data2[0]['retweet_count']\n",
    "\n"
   ]
  },
  {
   "cell_type": "code",
   "execution_count": null,
   "id": "8e7a0fe2",
   "metadata": {
    "hidden": true
   },
   "outputs": [],
   "source": [
    "post = [post_id,post_user_id,post_geo,post_text,post_place,post_source,post_coordinates,post_contributors,post_post_author_info_count,post_favorite_count,post_is_quote_status,]\n",
    "post_cols = ['id', 'user_id', 'geo', 'text', 'place', 'source', 'coordinates', 'contributors', 'retweet_count', 'fav_count', 'is_quote']\n",
    "df_post = pd.DataFrame(post).T\n",
    "df_post.columns = post_cols"
   ]
  },
  {
   "cell_type": "code",
   "execution_count": null,
   "id": "478ce632",
   "metadata": {
    "hidden": true
   },
   "outputs": [],
   "source": [
    "user = [post_user_id,post_user_name,post_user_lang,post_user_verified,post_user_location,post_user_time_zone,post_user_created_at,post_user_description,post_user_screen_name,post_user_geo_enabled,post_user_friends_count,tweet_user_profile_color,post_user_followers_count,post_user_favourites_count,tweet_user_profile_background_color]\n",
    "user_cols = ['id', 'name', 'lang', 'is_verified', 'location', 'time_zone', 'created_at', 'description', 'screen_name', 'geo_enabled', 'friends_count', 'profile_color', 'followers_count', 'favourites_count', 'background_color']\n",
    "df_user = pd.DataFrame(user).T\n",
    "df_user.columns = user_cols\n",
    "\n",
    "r_user = [tweet_user_id,tweet_user_name,tweet_user_lang,tweet_user_is_verify,tweet_user_location,tweet_user_timezone,tweet_user_date_acc,tweet_user_desc,tweet_user_screen_name,tweet_user_geo_enab,tweet_user_c_frds,tweet_user_profile_color,tweet_user_c_fllw,tweet_user_c_fav,tweet_user_profile_background_color]\n",
    "df_r_user = pd.DataFrame(r_user).T\n",
    "df_r_user.columns = user_cols\n",
    "df_user = pd.concat([df_user, df_r_user], axis=0)"
   ]
  },
  {
   "cell_type": "code",
   "execution_count": null,
   "id": "2715598e",
   "metadata": {
    "hidden": true
   },
   "outputs": [],
   "source": [
    "retweets_info = [r_post_id,tweet_user_id,r_post_lang,r_post_is_fav,r_post_source,r_post_fav_count,r_post_is_retweet,r_post_created_at,r_post_retweet_count]\n",
    "retweets_info_cols = ['post_id', 'retweet_user_id', 'lang', 'is_fav', 'source', 'fav_counts', 'is_retweet', 'created_at', 'retweet_count']\n",
    "df_retweets = pd.DataFrame(retweets_info).T\n",
    "df_retweets.columns = retweets_info_cols"
   ]
  },
  {
   "cell_type": "markdown",
   "id": "467d76fe",
   "metadata": {},
   "source": [
    "### 1.2.2. Multiple Examples"
   ]
  },
  {
   "cell_type": "code",
   "execution_count": null,
   "id": "3325b0a5",
   "metadata": {},
   "outputs": [],
   "source": [
    "DATE = '2022-06-26'"
   ]
  },
  {
   "cell_type": "code",
   "execution_count": null,
   "id": "044e073e",
   "metadata": {},
   "outputs": [],
   "source": [
    "with open(f'output_json_tweets_{DATE}.txt', 'r') as file_jsons:\n",
    "    data = file_jsons.readlines()\n",
    "\n",
    "data2 = [json.loads(data[k]) for k in range(0, len(data), 2)]"
   ]
  },
  {
   "cell_type": "code",
   "execution_count": null,
   "id": "1739039d",
   "metadata": {},
   "outputs": [],
   "source": [
    "COLLECT_DATETIME = datetime.now().strftime('%Y-%m-%d_%H-%M-%S')\n",
    "\n",
    "post_cols = ['id', 'user_id', 'geo', 'text', 'place', 'source', 'coordinates', 'contributors', 'retweet_count', 'fav_count', 'is_quote', 'urls']\n",
    "user_cols = ['id', 'name', 'lang', 'is_verified', 'location', 'time_zone', 'created_at', 'description', 'screen_name', 'geo_enabled', 'friends_count', 'profile_color', 'followers_count', 'favourites_count', 'background_color']\n",
    "retweets_info_cols = ['post_id', 'retweet_user_id', 'lang', 'is_fav', 'source', 'fav_counts', 'is_retweet', 'created_at', 'retweet_count']\n",
    "\n",
    "dataset_posts = pd.DataFrame(columns=post_cols)\n",
    "dataset_users = pd.DataFrame(columns=user_cols)\n",
    "dataset_retweets = pd.DataFrame(columns=retweets_info_cols)\n",
    "\n",
    "for k in range(len(data2)):\n",
    "    \n",
    "    try:\n",
    "        post_author_info = data2[k]['retweeted_status']\n",
    "        has_url = data2[k]['retweeted_status']['entities']['urls']\n",
    "    \n",
    "    except:\n",
    "        post_autor_info = data2[k]['user']\n",
    "        data2[k]['entities']['urls']\n",
    "    \n",
    "    post_urls = [url['url'] for url in has_url]\n",
    "    \n",
    "    if post_urls:\n",
    "        post_urls = ', '.join([url['url'] for url in has_url])\n",
    "        \n",
    "    else:\n",
    "        post_urls = 'None'\n",
    "        \n",
    "    try:\n",
    "        post_place = post_author_info['place']['full_name']\n",
    "    except:\n",
    "        post_palce = 'None'\n",
    "    \n",
    "    post_id = post_author_info['id_str']\n",
    "    post_geo = post_author_info['geo']\n",
    "    post_text = post_author_info['full_text']\n",
    "    post_source = post_author_info['source']\n",
    "    post_coordinates = post_author_info['coordinates']\n",
    "    post_contributors = post_author_info['contributors']\n",
    "    post_post_author_info_count = post_author_info['retweet_count']\n",
    "    post_favorite_count = post_author_info['favorite_count']\n",
    "    post_is_quote_status = post_author_info['is_quote_status']\n",
    "\n",
    "    post_user_id = post_author_info['user']['id_str']\n",
    "    post_user_name = post_author_info['user']['name']\n",
    "    post_user_lang = post_author_info['user']['lang']\n",
    "    post_user_verified = post_author_info['user']['verified']\n",
    "    post_user_location = post_author_info['user']['location']\n",
    "    post_user_time_zone = post_author_info['user']['time_zone']\n",
    "    post_user_created_at = post_author_info['user']['created_at']\n",
    "    post_user_description = post_author_info['user']['description']\n",
    "    post_user_screen_name = post_author_info['user']['screen_name']\n",
    "\n",
    "    post_user_geo_enabled = post_author_info['user']['geo_enabled']\n",
    "    post_user_friends_count = post_author_info['user']['friends_count']\n",
    "    tweet_user_profile_color = post_author_info['user']['profile_link_color']\n",
    "    post_user_followers_count = post_author_info['user']['followers_count']\n",
    "    post_user_favourites_count = post_author_info['user']['favourites_count']\n",
    "    tweet_user_profile_background_color = post_author_info['user']['profile_background_color']\n",
    "\n",
    "\n",
    "    post_hashtags = data2[k]['entities']['hashtags']\n",
    "\n",
    "\n",
    "    user = data2[k]['user'].copy()\n",
    "\n",
    "    tweet_user_id = user['id_str']\n",
    "    tweet_user_name = user['name']\n",
    "    tweet_user_lang = user['lang']\n",
    "    tweet_user_desc = user['description']\n",
    "    tweet_user_c_fllw = user['followers_count']\n",
    "    tweet_user_c_frds = user['friends_count']\n",
    "    tweet_user_c_fav  = user['favourites_count']\n",
    "    tweet_user_timezone = user['time_zone']\n",
    "    tweet_user_location = user['location']\n",
    "    tweet_user_geo_enab = user['geo_enabled']\n",
    "    tweet_user_date_acc = user['created_at']\n",
    "    tweet_user_is_verify = user['verified']\n",
    "    tweet_user_screen_name = user['screen_name']\n",
    "    tweet_user_profile_color = user['profile_link_color']\n",
    "    tweet_user_profile_background_color = user['profile_background_color']\n",
    "\n",
    "\n",
    "    r_post_id = data2[k]['id_str']\n",
    "    r_post_lang = data2[k]['lang']\n",
    "    r_post_is_fav = data2[k]['favorited']\n",
    "    r_post_source = data2[k]['source']\n",
    "    r_post_fav_count = data2[k]['favorite_count']\n",
    "    r_post_is_retweet = data2[k]['retweeted']\n",
    "    r_post_created_at = data2[k]['created_at']\n",
    "    r_post_retweet_count = data2[k]['retweet_count']\n",
    "\n",
    "\n",
    "    post = [post_id,post_user_id,post_geo,post_text,post_place,post_source,post_coordinates,post_contributors,post_post_author_info_count,post_favorite_count,post_is_quote_status,post_urls]\n",
    "    user = [post_user_id,post_user_name,post_user_lang,post_user_verified,post_user_location,post_user_time_zone,post_user_created_at,post_user_description,post_user_screen_name,post_user_geo_enabled,post_user_friends_count,tweet_user_profile_color,post_user_followers_count,post_user_favourites_count,tweet_user_profile_background_color]\n",
    "    r_user = [tweet_user_id,tweet_user_name,tweet_user_lang,tweet_user_is_verify,tweet_user_location,tweet_user_timezone,tweet_user_date_acc,tweet_user_desc,tweet_user_screen_name,tweet_user_geo_enab,tweet_user_c_frds,tweet_user_profile_color,tweet_user_c_fllw,tweet_user_c_fav,tweet_user_profile_background_color]\n",
    "    retweets_info = [r_post_id,tweet_user_id,r_post_lang,r_post_is_fav,r_post_source,r_post_fav_count,r_post_is_retweet,r_post_created_at,r_post_retweet_count]\n",
    "    \n",
    "    df_post = pd.DataFrame(post).T\n",
    "    df_post.columns = post_cols\n",
    "    dataset_posts = pd.concat([dataset_posts, df_post], axis=0)\n",
    "\n",
    "    df_user = pd.DataFrame(user).T\n",
    "    df_user.columns = user_cols\n",
    "\n",
    "    df_r_user = pd.DataFrame(r_user).T\n",
    "    df_r_user.columns = user_cols\n",
    "    df_user = pd.concat([df_user, df_r_user], axis=0)\n",
    "    dataset_users = pd.concat([dataset_users, df_user], axis=0)\n",
    "\n",
    "    df_retweets = pd.DataFrame(retweets_info).T\n",
    "    df_retweets.columns = retweets_info_cols\n",
    "    dataset_retweets = pd.concat([dataset_retweets, df_retweets], axis=0)\n",
    "    \n",
    "for date, df in zip([COLLECT_DATETIME]*3, [dataset_posts, dataset_users, dataset_retweets]):\n",
    "    df['request_datetime'] = date\n",
    "    df = df.reset_index(drop=True)"
   ]
  },
  {
   "cell_type": "code",
   "execution_count": 5,
   "id": "a715d31a",
   "metadata": {},
   "outputs": [],
   "source": [
    "#dataset_posts[~dataset_posts['urls'].str.contains('None')].head(2)"
   ]
  },
  {
   "cell_type": "code",
   "execution_count": 4,
   "id": "ca9ffb39",
   "metadata": {},
   "outputs": [],
   "source": [
    "#dataset_retweets.head(2)"
   ]
  },
  {
   "cell_type": "code",
   "execution_count": 3,
   "id": "e0b4cd46",
   "metadata": {
    "scrolled": false
   },
   "outputs": [],
   "source": [
    "#dataset_users.head(2) #Hide Data"
   ]
  },
  {
   "cell_type": "markdown",
   "id": "63108772",
   "metadata": {
    "heading_collapsed": true
   },
   "source": [
    "### 1.2.3. Script Class"
   ]
  },
  {
   "cell_type": "code",
   "execution_count": null,
   "id": "0472477f",
   "metadata": {
    "hidden": true
   },
   "outputs": [],
   "source": [
    "import json\n",
    "import time\n",
    "import requests\n",
    "import numpy as np\n",
    "import pandas as pd\n",
    "\n",
    "from datetime import datetime\n",
    "from tweepy import OAuthHandler, Stream, API, Client\n",
    "from utils import CONSUMER_KEY,CONSUMER_SECRET,ACCESS_TOKEN,ACCESS_TOKEN_SECRET\n",
    "\n",
    "\n",
    "SEARCH_TIMES = 100\n",
    "SEARCH_TERMS = 'Brasil'\n",
    "DATE = datetime.now().strftime('%Y-%m-%d')\n",
    "COLLECT_DATETIME = datetime.now().strftime('%Y-%m-%d_%H-%M-%S')\n",
    "\n",
    "client = Client(consumer_key=CONSUMER_KEY, consumer_secret=CONSUMER_SECRET,\n",
    "                access_token=ACCESS_TOKEN, access_token_secret=ACCESS_TOKEN_SECRET,\n",
    "                bearer_token=BEARER_TOKEN)\n",
    "\n",
    "\n",
    "class TwitterRequests():\n",
    "    def __init__(self):\n",
    "        self.post_cols = ['id', 'user_id', 'geo', 'text', 'place', 'source', 'coordinates', 'contributors', 'retweet_count', 'fav_count', 'is_quote', 'urls']\n",
    "        self.user_cols = ['id', 'name', 'lang', 'is_verified', 'location', 'time_zone', 'created_at', 'description', 'screen_name', 'geo_enabled', 'friends_count', 'profile_color', 'followers_count', 'favourites_count', 'background_color']\n",
    "        self.retweets_info_cols = ['post_id', 'retweet_user_id', 'lang', 'is_fav', 'source', 'fav_counts', 'is_retweet', 'created_at', 'retweet_count']\n",
    "\n",
    "    \n",
    "    def api_request(self):\n",
    "        tweets = client.search_recent_tweets(query=SEARCH_TERMS, max_results=SEARCH_TIMES)\n",
    "\n",
    "        for k in tweets.data:\n",
    "            tweet_data = api.get_status(k.id, tweet_mode='extended')._json\n",
    "            time.sleep(1)\n",
    "            print(json.dumps(tweet_data) + '\\n', file=open(f'output_json_tweets_{DATE}.txt', 'a'))\n",
    "            \n",
    "    def load_data(self):\n",
    "        with open(f'output_json_tweets_{DATE}.txt', 'r') as file_jsons:\n",
    "            data = file_jsons.readlines()\n",
    "\n",
    "        data_jsons = [json.loads(data[k]) for k in range(0, len(data), 2)]\n",
    "\n",
    "        return data_jsons\n",
    "    \n",
    "    def get_datasets(self, data_jsons):\n",
    "        dataset_posts = pd.DataFrame(columns=self.post_cols)\n",
    "        dataset_users = pd.DataFrame(columns=self.user_cols)\n",
    "        dataset_retweets = pd.DataFrame(columns=self.retweets_info_cols)\n",
    "\n",
    "        for k in range(len(data_jsons)):\n",
    "            try:\n",
    "                post_author_info = data_jsons[k]['retweeted_status']\n",
    "                has_url = data_jsons[k]['retweeted_status']['entities']['urls']\n",
    "\n",
    "            except:\n",
    "                post_autor_info = data_jsons[k]['user']\n",
    "                data_jsons[k]['entities']['urls']\n",
    "\n",
    "            post_urls = [url['url'] for url in has_url]\n",
    "\n",
    "            if post_urls: post_urls = ', '.join([url['url'] for url in has_url])\n",
    "            else: post_urls = 'None'\n",
    "\n",
    "            post_id = post_author_info['id_str']\n",
    "            post_geo = post_author_info['geo']\n",
    "            post_text = post_author_info['full_text']\n",
    "            post_place = post_author_info['place']\n",
    "            post_source = post_author_info['source']\n",
    "            post_coordinates = post_author_info['coordinates']\n",
    "            post_contributors = post_author_info['contributors']\n",
    "            post_post_author_info_count = post_author_info['retweet_count']\n",
    "            post_favorite_count = post_author_info['favorite_count']\n",
    "            post_is_quote_status = post_author_info['is_quote_status']\n",
    "\n",
    "            post_user_id = post_author_info['user']['id_str']\n",
    "            post_user_name = post_author_info['user']['name']\n",
    "            post_user_lang = post_author_info['user']['lang']\n",
    "            post_user_verified = post_author_info['user']['verified']\n",
    "            post_user_location = post_author_info['user']['location']\n",
    "            post_user_time_zone = post_author_info['user']['time_zone']\n",
    "            post_user_created_at = post_author_info['user']['created_at']\n",
    "            post_user_description = post_author_info['user']['description']\n",
    "            post_user_screen_name = post_author_info['user']['screen_name']\n",
    "\n",
    "            post_user_geo_enabled = post_author_info['user']['geo_enabled']\n",
    "            post_user_friends_count = post_author_info['user']['friends_count']\n",
    "            tweet_user_profile_color = post_author_info['user']['profile_link_color']\n",
    "            post_user_followers_count = post_author_info['user']['followers_count']\n",
    "            post_user_favourites_count = post_author_info['user']['favourites_count']\n",
    "            tweet_user_profile_background_color = post_author_info['user']['profile_background_color']\n",
    "\n",
    "\n",
    "            post_hashtags = data_jsons[k]['entities']['hashtags']\n",
    "\n",
    "            user = data_jsons[k]['user'].copy()\n",
    "\n",
    "            tweet_user_id = user['id_str']\n",
    "            tweet_user_name = user['name']\n",
    "            tweet_user_lang = user['lang']\n",
    "            tweet_user_desc = user['description']\n",
    "            tweet_user_c_fllw = user['followers_count']\n",
    "            tweet_user_c_frds = user['friends_count']\n",
    "            tweet_user_c_fav  = user['favourites_count']\n",
    "            tweet_user_timezone = user['time_zone']\n",
    "            tweet_user_location = user['location']\n",
    "            tweet_user_geo_enab = user['geo_enabled']\n",
    "            tweet_user_date_acc = user['created_at']\n",
    "            tweet_user_is_verify = user['verified']\n",
    "            tweet_user_screen_name = user['screen_name']\n",
    "            tweet_user_profile_color = user['profile_link_color']\n",
    "            tweet_user_profile_background_color = user['profile_background_color']\n",
    "\n",
    "\n",
    "            r_post_id = data_jsons[k]['id_str']\n",
    "            r_post_lang = data_jsons[k]['lang']\n",
    "            r_post_is_fav = data_jsons[k]['favorited']\n",
    "            r_post_source = data_jsons[k]['source']\n",
    "            r_post_fav_count = data_jsons[k]['favorite_count']\n",
    "            r_post_is_retweet = data_jsons[k]['retweeted']\n",
    "            r_post_created_at = data_jsons[k]['created_at']\n",
    "            r_post_retweet_count = data_jsons[k]['retweet_count']\n",
    "\n",
    "\n",
    "            post = [post_id,post_user_id,post_geo,post_text,post_place,post_source,post_coordinates,post_contributors,post_post_author_info_count,post_favorite_count,post_is_quote_status,post_urls]\n",
    "            user = [post_user_id,post_user_name,post_user_lang,post_user_verified,post_user_location,post_user_time_zone,post_user_created_at,post_user_description,post_user_screen_name,post_user_geo_enabled,post_user_friends_count,tweet_user_profile_color,post_user_followers_count,post_user_favourites_count,tweet_user_profile_background_color]\n",
    "            r_user = [tweet_user_id,tweet_user_name,tweet_user_lang,tweet_user_is_verify,tweet_user_location,tweet_user_timezone,tweet_user_date_acc,tweet_user_desc,tweet_user_screen_name,tweet_user_geo_enab,tweet_user_c_frds,tweet_user_profile_color,tweet_user_c_fllw,tweet_user_c_fav,tweet_user_profile_background_color]\n",
    "            retweets_info = [r_post_id,tweet_user_id,r_post_lang,r_post_is_fav,r_post_source,r_post_fav_count,r_post_is_retweet,r_post_created_at,r_post_retweet_count]\n",
    "\n",
    "            df_post = pd.DataFrame(post).T\n",
    "            df_post.columns = self.post_cols\n",
    "            dataset_posts = pd.concat([dataset_posts, df_post], axis=0)\n",
    "\n",
    "            df_user = pd.DataFrame(user).T\n",
    "            df_user.columns = self.user_cols\n",
    "\n",
    "            df_r_user = pd.DataFrame(r_user).T\n",
    "            df_r_user.columns = self.user_cols\n",
    "            df_user = pd.concat([df_user, df_r_user], axis=0)\n",
    "            dataset_users = pd.concat([dataset_users, df_user], axis=0)\n",
    "\n",
    "            df_retweets = pd.DataFrame(retweets_info).T\n",
    "            df_retweets.columns = self.retweets_info_cols\n",
    "            dataset_retweets = pd.concat([dataset_retweets, df_retweets], axis=0)\n",
    "\n",
    "            for date, df in zip([COLLECT_DATETIME]*3, [dataset_posts, dataset_users, dataset_retweets]):\n",
    "                df['request_datetime'] = date\n",
    "                df = df.reset_index(drop=True)\n",
    "                \n",
    "        dataset_posts.to_csv('dataset_posts.csv')\n",
    "        dataset_users.to_csv('dataset_users.csv')\n",
    "        dataset_retweets.to_csv('dataset_retweets.csv')\n",
    "                \n",
    "        datasets = {'posts': dataset_posts, \n",
    "                    'users': dataset_users,\n",
    "                    'retweets': dataset_retweets} \n",
    "        \n",
    "        return datasets\n",
    "    \n",
    "\n",
    "if __name__ == '__main__':\n",
    "    HOUR_START = datetime.now().strftime('%H:%M:%S')\n",
    "    print(f'[ API Twitter Request Daily Data ] [{DATE}] -> Time Start at {HOUR_START}', file=open('time_logs.txt', 'a'))\n",
    "    \n",
    "    tr = TwitterRequests()\n",
    "    \n",
    "    tr.api_request()\n",
    "    \n",
    "    dataset_jsons = tr.load_data()\n",
    "    \n",
    "    datasets = tr.get_datasets(dataset_jsons)\n",
    "    \n",
    "    HOUR_END = datetime.now().strftime('%H:%M:%S')\n",
    "    print(f'[ API Twitter Request Daily Data ] [{DATE}] -> Time End   at {HOUR_END}\\n', file=open('time_logs.txt', 'a'))"
   ]
  },
  {
   "cell_type": "markdown",
   "id": "74378b08",
   "metadata": {},
   "source": [
    "## 1.3. Test CSV File"
   ]
  },
  {
   "cell_type": "code",
   "execution_count": 2,
   "id": "e9480158",
   "metadata": {},
   "outputs": [],
   "source": [
    "import pandas as pd\n",
    "\n",
    "#pd.read_csv('data2/dfusers.csv') #Hide Data"
   ]
  }
 ],
 "metadata": {
  "hide_input": false,
  "kernelspec": {
   "display_name": "Python 3.9.5 64-bit",
   "language": "python",
   "name": "python3"
  },
  "language_info": {
   "codemirror_mode": {
    "name": "ipython",
    "version": 3
   },
   "file_extension": ".py",
   "mimetype": "text/x-python",
   "name": "python",
   "nbconvert_exporter": "python",
   "pygments_lexer": "ipython3",
   "version": "3.9.5"
  },
  "varInspector": {
   "cols": {
    "lenName": 16,
    "lenType": 16,
    "lenVar": 40
   },
   "kernels_config": {
    "python": {
     "delete_cmd_postfix": "",
     "delete_cmd_prefix": "del ",
     "library": "var_list.py",
     "varRefreshCmd": "print(var_dic_list())"
    },
    "r": {
     "delete_cmd_postfix": ") ",
     "delete_cmd_prefix": "rm(",
     "library": "var_list.r",
     "varRefreshCmd": "cat(var_dic_list()) "
    }
   },
   "types_to_exclude": [
    "module",
    "function",
    "builtin_function_or_method",
    "instance",
    "_Feature"
   ],
   "window_display": false
  },
  "vscode": {
   "interpreter": {
    "hash": "9888bc5e86fce7c5db94033484b579581cabefcb12cbc2bb66b14e354aa8fb77"
   }
  }
 },
 "nbformat": 4,
 "nbformat_minor": 5
}
